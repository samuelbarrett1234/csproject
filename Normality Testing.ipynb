{
 "cells": [
  {
   "cell_type": "code",
   "execution_count": 1,
   "id": "4a161410",
   "metadata": {},
   "outputs": [],
   "source": [
    "import math\n",
    "import numpy as np\n",
    "import pandas as pd\n",
    "import matplotlib.pyplot as plt\n",
    "import seaborn as sns\n",
    "import dask.dataframe as dd"
   ]
  },
  {
   "cell_type": "code",
   "execution_count": 2,
   "id": "e9386155",
   "metadata": {},
   "outputs": [],
   "source": [
    "FOLDER = 'E:/diss/reuters/'\n",
    "GRAPHS = 'C:/Users/Mr Barrett/Dropbox/Diss/graphs/'"
   ]
  },
  {
   "cell_type": "code",
   "execution_count": 3,
   "id": "74cc58f1",
   "metadata": {},
   "outputs": [],
   "source": [
    "name_update = {\n",
    "    'bert-init_state=bert-base-uncased,comp=L2R,chunking=2,max_len_comp=64': 'BERT-L2R',\n",
    "    'bert-init_state=bert-base-uncased,comp=L2R,chunking=4,max_len_comp=128': 'BERT-L2R-2',\n",
    "    'bert-init_state=bert-base-uncased,comp=cutting-sort,chunking=2,blocking=8,max_len_comp=64': 'BERT-Cut-Sort',\n",
    "    'bert-init_state=bert-base-uncased,comp=cutting-sort,chunking=4,blocking=16,max_len_comp=128': 'BERT-Cut-Sort-2',\n",
    "}"
   ]
  },
  {
   "cell_type": "code",
   "execution_count": 4,
   "id": "f86d8907",
   "metadata": {},
   "outputs": [
    {
     "data": {
      "text/html": [
       "<div>\n",
       "<style scoped>\n",
       "    .dataframe tbody tr th:only-of-type {\n",
       "        vertical-align: middle;\n",
       "    }\n",
       "\n",
       "    .dataframe tbody tr th {\n",
       "        vertical-align: top;\n",
       "    }\n",
       "\n",
       "    .dataframe thead th {\n",
       "        text-align: right;\n",
       "    }\n",
       "</style>\n",
       "<table border=\"1\" class=\"dataframe\">\n",
       "  <thead>\n",
       "    <tr style=\"text-align: right;\">\n",
       "      <th></th>\n",
       "      <th>compname</th>\n",
       "      <th>CxxOverCx</th>\n",
       "    </tr>\n",
       "  </thead>\n",
       "  <tbody>\n",
       "    <tr>\n",
       "      <th>5</th>\n",
       "      <td>BERT-Cut-Sort</td>\n",
       "      <td>1.501854</td>\n",
       "    </tr>\n",
       "    <tr>\n",
       "      <th>7</th>\n",
       "      <td>BERT-Cut-Sort-2</td>\n",
       "      <td>1.711995</td>\n",
       "    </tr>\n",
       "    <tr>\n",
       "      <th>4</th>\n",
       "      <td>BERT-L2R</td>\n",
       "      <td>1.675009</td>\n",
       "    </tr>\n",
       "    <tr>\n",
       "      <th>6</th>\n",
       "      <td>BERT-L2R-2</td>\n",
       "      <td>1.763719</td>\n",
       "    </tr>\n",
       "    <tr>\n",
       "      <th>0</th>\n",
       "      <td>bzip2</td>\n",
       "      <td>0.999537</td>\n",
       "    </tr>\n",
       "    <tr>\n",
       "      <th>1</th>\n",
       "      <td>gzip</td>\n",
       "      <td>1.000000</td>\n",
       "    </tr>\n",
       "    <tr>\n",
       "      <th>2</th>\n",
       "      <td>lzma</td>\n",
       "      <td>1.000000</td>\n",
       "    </tr>\n",
       "    <tr>\n",
       "      <th>3</th>\n",
       "      <td>zlib</td>\n",
       "      <td>1.000000</td>\n",
       "    </tr>\n",
       "  </tbody>\n",
       "</table>\n",
       "</div>"
      ],
      "text/plain": [
       "          compname  CxxOverCx\n",
       "5    BERT-Cut-Sort   1.501854\n",
       "7  BERT-Cut-Sort-2   1.711995\n",
       "4         BERT-L2R   1.675009\n",
       "6       BERT-L2R-2   1.763719\n",
       "0            bzip2   0.999537\n",
       "1             gzip   1.000000\n",
       "2             lzma   1.000000\n",
       "3             zlib   1.000000"
      ]
     },
     "execution_count": 4,
     "metadata": {},
     "output_type": "execute_result"
    }
   ],
   "source": [
    "df = pd.read_csv(FOLDER + \"reuters_normality_idempotency.csv\")\n",
    "df[\"compname\"] = df[\"compname\"].apply(lambda s: name_update[s] if s in name_update else s)\n",
    "df = df.sort_values(\"compname\")\n",
    "df"
   ]
  },
  {
   "cell_type": "code",
   "execution_count": 5,
   "id": "67b3b0c6",
   "metadata": {},
   "outputs": [
    {
     "data": {
      "image/png": "[encoded data removed]",
      "text/plain": [
       "<Figure size 432x288 with 1 Axes>"
      ]
     },
     "metadata": {
      "needs_background": "light"
     },
     "output_type": "display_data"
    }
   ],
   "source": [
    "sns.barplot(data=df, x=\"compname\", y=\"CxxOverCx\")\n",
    "plt.gca().set_xticklabels(plt.gca().get_xticklabels(), rotation=90, ha='right')\n",
    "plt.title(\"Idempotency\")\n",
    "plt.xlabel(\"\")\n",
    "plt.ylabel(\"C(xx)/C(x)\")\n",
    "plt.savefig(GRAPHS + f\"reuters-normality-idempotency.svg\", format=\"svg\", bbox_inches='tight')\n",
    "plt.show()"
   ]
  },
  {
   "cell_type": "code",
   "execution_count": 6,
   "id": "bc4e5b3c",
   "metadata": {},
   "outputs": [
    {
     "data": {
      "text/html": [
       "<div>\n",
       "<style scoped>\n",
       "    .dataframe tbody tr th:only-of-type {\n",
       "        vertical-align: middle;\n",
       "    }\n",
       "\n",
       "    .dataframe tbody tr th {\n",
       "        vertical-align: top;\n",
       "    }\n",
       "\n",
       "    .dataframe thead th {\n",
       "        text-align: right;\n",
       "    }\n",
       "</style>\n",
       "<table border=\"1\" class=\"dataframe\">\n",
       "  <thead>\n",
       "    <tr style=\"text-align: right;\">\n",
       "      <th></th>\n",
       "      <th>compname</th>\n",
       "      <th>CxyOverCyx</th>\n",
       "    </tr>\n",
       "  </thead>\n",
       "  <tbody>\n",
       "    <tr>\n",
       "      <th>5</th>\n",
       "      <td>BERT-Cut-Sort</td>\n",
       "      <td>1.023263</td>\n",
       "    </tr>\n",
       "    <tr>\n",
       "      <th>7</th>\n",
       "      <td>BERT-Cut-Sort-2</td>\n",
       "      <td>1.026672</td>\n",
       "    </tr>\n",
       "    <tr>\n",
       "      <th>4</th>\n",
       "      <td>BERT-L2R</td>\n",
       "      <td>1.019875</td>\n",
       "    </tr>\n",
       "    <tr>\n",
       "      <th>6</th>\n",
       "      <td>BERT-L2R-2</td>\n",
       "      <td>1.024914</td>\n",
       "    </tr>\n",
       "    <tr>\n",
       "      <th>0</th>\n",
       "      <td>bzip2</td>\n",
       "      <td>1.007980</td>\n",
       "    </tr>\n",
       "    <tr>\n",
       "      <th>1</th>\n",
       "      <td>gzip</td>\n",
       "      <td>1.003247</td>\n",
       "    </tr>\n",
       "    <tr>\n",
       "      <th>2</th>\n",
       "      <td>lzma</td>\n",
       "      <td>1.007489</td>\n",
       "    </tr>\n",
       "    <tr>\n",
       "      <th>3</th>\n",
       "      <td>zlib</td>\n",
       "      <td>1.003341</td>\n",
       "    </tr>\n",
       "  </tbody>\n",
       "</table>\n",
       "</div>"
      ],
      "text/plain": [
       "          compname  CxyOverCyx\n",
       "5    BERT-Cut-Sort    1.023263\n",
       "7  BERT-Cut-Sort-2    1.026672\n",
       "4         BERT-L2R    1.019875\n",
       "6       BERT-L2R-2    1.024914\n",
       "0            bzip2    1.007980\n",
       "1             gzip    1.003247\n",
       "2             lzma    1.007489\n",
       "3             zlib    1.003341"
      ]
     },
     "execution_count": 6,
     "metadata": {},
     "output_type": "execute_result"
    }
   ],
   "source": [
    "df = pd.read_csv(FOLDER + \"reuters_normality_symmetry.csv\")\n",
    "df[\"compname\"] = df[\"compname\"].apply(lambda s: name_update[s] if s in name_update else s)\n",
    "df = df.sort_values(\"compname\")\n",
    "df"
   ]
  },
  {
   "cell_type": "code",
   "execution_count": 8,
   "id": "442473de",
   "metadata": {},
   "outputs": [
    {
     "data": {
      "image/png": "[encoded data removed]",
      "text/plain": [
       "<Figure size 432x288 with 1 Axes>"
      ]
     },
     "metadata": {
      "needs_background": "light"
     },
     "output_type": "display_data"
    }
   ],
   "source": [
    "sns.barplot(data=df, x=\"compname\", y=\"CxyOverCyx\")\n",
    "plt.gca().set_xticklabels(plt.gca().get_xticklabels(), rotation=90, ha='right')\n",
    "plt.ylim((0.97, 1.03))\n",
    "plt.title(\"Symmetry\")\n",
    "plt.xlabel(\"\")\n",
    "plt.ylabel(\"C(xy)/C(yx)\")\n",
    "plt.savefig(GRAPHS + f\"reuters-normality-symmetry.svg\", format=\"svg\", bbox_inches='tight')\n",
    "plt.show()"
   ]
  },
  {
   "cell_type": "code",
   "execution_count": null,
   "id": "ac1bcaae",
   "metadata": {},
   "outputs": [],
   "source": []
  }
 ],
 "metadata": {
  "kernelspec": {
   "display_name": "Python 3 (ipykernel)",
   "language": "python",
   "name": "python3"
  },
  "language_info": {
   "codemirror_mode": {
    "name": "ipython",
    "version": 3
   },
   "file_extension": ".py",
   "mimetype": "text/x-python",
   "name": "python",
   "nbconvert_exporter": "python",
   "pygments_lexer": "ipython3",
   "version": "3.7.11"
  }
 },
 "nbformat": 4,
 "nbformat_minor": 5
}
