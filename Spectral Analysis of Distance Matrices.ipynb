{
 "cells": [
  {
   "cell_type": "code",
   "execution_count": 1,
   "id": "ff969a84",
   "metadata": {},
   "outputs": [],
   "source": [
    "import numpy as np\n",
    "import matplotlib.pyplot as plt\n",
    "import seaborn as sns\n",
    "import dask.dataframe as dd\n",
    "import pandas as pd\n",
    "import networkx as nx\n",
    "import networkx.algorithms.approximation"
   ]
  },
  {
   "cell_type": "code",
   "execution_count": 2,
   "id": "a520b93c",
   "metadata": {},
   "outputs": [],
   "source": [
    "FOLDER = 'E:/diss/reuters/'"
   ]
  },
  {
   "cell_type": "code",
   "execution_count": 35,
   "id": "6f50cc2a",
   "metadata": {},
   "outputs": [],
   "source": [
    "LBLTYPE = 3\n",
    "COMPNAME = 0\n",
    "NCD_FORMULA = \"norm-inf-dist-1\""
   ]
  },
  {
   "cell_type": "code",
   "execution_count": 4,
   "id": "b838ed62",
   "metadata": {},
   "outputs": [
    {
     "data": {
      "text/html": [
       "<div>\n",
       "<style scoped>\n",
       "    .dataframe tbody tr th:only-of-type {\n",
       "        vertical-align: middle;\n",
       "    }\n",
       "\n",
       "    .dataframe tbody tr th {\n",
       "        vertical-align: top;\n",
       "    }\n",
       "\n",
       "    .dataframe thead th {\n",
       "        text-align: right;\n",
       "    }\n",
       "</style>\n",
       "<table border=\"1\" class=\"dataframe\">\n",
       "  <thead>\n",
       "    <tr style=\"text-align: right;\">\n",
       "      <th></th>\n",
       "      <th>seqpart</th>\n",
       "      <th>seq</th>\n",
       "    </tr>\n",
       "    <tr>\n",
       "      <th>seqid</th>\n",
       "      <th></th>\n",
       "      <th></th>\n",
       "    </tr>\n",
       "  </thead>\n",
       "  <tbody>\n",
       "    <tr>\n",
       "      <th>0</th>\n",
       "      <td>1</td>\n",
       "      <td>[CLS] asian export ##ers fear damage from u . ...</td>\n",
       "    </tr>\n",
       "    <tr>\n",
       "      <th>1</th>\n",
       "      <td>2</td>\n",
       "      <td>[CLS] china daily says ve ##rmin eat 7 - 12 pc...</td>\n",
       "    </tr>\n",
       "    <tr>\n",
       "      <th>2</th>\n",
       "      <td>1</td>\n",
       "      <td>[CLS] japan to rev ##ise long - term energy de...</td>\n",
       "    </tr>\n",
       "    <tr>\n",
       "      <th>3</th>\n",
       "      <td>2</td>\n",
       "      <td>[CLS] thai trade deficit widen ##s in first qu...</td>\n",
       "    </tr>\n",
       "    <tr>\n",
       "      <th>4</th>\n",
       "      <td>1</td>\n",
       "      <td>[CLS] indonesia sees cp ##o price rising sharp...</td>\n",
       "    </tr>\n",
       "  </tbody>\n",
       "</table>\n",
       "</div>"
      ],
      "text/plain": [
       "       seqpart                                                seq\n",
       "seqid                                                            \n",
       "0            1  [CLS] asian export ##ers fear damage from u . ...\n",
       "1            2  [CLS] china daily says ve ##rmin eat 7 - 12 pc...\n",
       "2            1  [CLS] japan to rev ##ise long - term energy de...\n",
       "3            2  [CLS] thai trade deficit widen ##s in first qu...\n",
       "4            1  [CLS] indonesia sees cp ##o price rising sharp..."
      ]
     },
     "execution_count": 4,
     "metadata": {},
     "output_type": "execute_result"
    }
   ],
   "source": [
    "seqs = dd.read_csv(FOLDER + \"seqs.csv\").set_index(\"seqid\")\n",
    "seqs.head(5)"
   ]
  },
  {
   "cell_type": "code",
   "execution_count": 36,
   "id": "27a056ea",
   "metadata": {},
   "outputs": [],
   "source": [
    "lbls = pd.read_csv(FOLDER + \"labels.csv\")\n",
    "lbls = { row[\"seqid\"] : row[\"lbl\"] for index, row in lbls[lbls[\"lbltype\"] == LBLTYPE].iterrows() }"
   ]
  },
  {
   "cell_type": "code",
   "execution_count": 11,
   "id": "5e25b9bc",
   "metadata": {},
   "outputs": [],
   "source": [
    "df = dd.read_csv(FOLDER + \"graphs.csv\")\n",
    "df = df[(df[\"compid\"] == COMPNAME) & (df[\"ncd_formula\"] == NCD_FORMULA) & (df[\"seqpart\"] == 1)].compute()"
   ]
  },
  {
   "cell_type": "code",
   "execution_count": 12,
   "id": "e5bed1c9",
   "metadata": {},
   "outputs": [
    {
     "data": {
      "text/html": [
       "<div>\n",
       "<style scoped>\n",
       "    .dataframe tbody tr th:only-of-type {\n",
       "        vertical-align: middle;\n",
       "    }\n",
       "\n",
       "    .dataframe tbody tr th {\n",
       "        vertical-align: top;\n",
       "    }\n",
       "\n",
       "    .dataframe thead th {\n",
       "        text-align: right;\n",
       "    }\n",
       "</style>\n",
       "<table border=\"1\" class=\"dataframe\">\n",
       "  <thead>\n",
       "    <tr style=\"text-align: right;\">\n",
       "      <th></th>\n",
       "      <th>compid</th>\n",
       "      <th>ncd_formula</th>\n",
       "      <th>dist_aggregator</th>\n",
       "      <th>seqpart</th>\n",
       "      <th>seqid_1</th>\n",
       "      <th>seqid_2</th>\n",
       "      <th>seqid_train</th>\n",
       "      <th>dist</th>\n",
       "    </tr>\n",
       "  </thead>\n",
       "  <tbody>\n",
       "    <tr>\n",
       "      <th>1143566</th>\n",
       "      <td>0</td>\n",
       "      <td>norm-inf-dist-1</td>\n",
       "      <td>mp</td>\n",
       "      <td>1</td>\n",
       "      <td>0</td>\n",
       "      <td>2</td>\n",
       "      <td>3976</td>\n",
       "      <td>1.804914</td>\n",
       "    </tr>\n",
       "    <tr>\n",
       "      <th>1143567</th>\n",
       "      <td>0</td>\n",
       "      <td>norm-inf-dist-1</td>\n",
       "      <td>mp</td>\n",
       "      <td>1</td>\n",
       "      <td>2</td>\n",
       "      <td>0</td>\n",
       "      <td>3976</td>\n",
       "      <td>1.804914</td>\n",
       "    </tr>\n",
       "    <tr>\n",
       "      <th>1143568</th>\n",
       "      <td>0</td>\n",
       "      <td>norm-inf-dist-1</td>\n",
       "      <td>mp</td>\n",
       "      <td>1</td>\n",
       "      <td>0</td>\n",
       "      <td>4</td>\n",
       "      <td>3325</td>\n",
       "      <td>1.799317</td>\n",
       "    </tr>\n",
       "    <tr>\n",
       "      <th>1143569</th>\n",
       "      <td>0</td>\n",
       "      <td>norm-inf-dist-1</td>\n",
       "      <td>mp</td>\n",
       "      <td>1</td>\n",
       "      <td>4</td>\n",
       "      <td>0</td>\n",
       "      <td>3325</td>\n",
       "      <td>1.799317</td>\n",
       "    </tr>\n",
       "    <tr>\n",
       "      <th>1143570</th>\n",
       "      <td>0</td>\n",
       "      <td>norm-inf-dist-1</td>\n",
       "      <td>mp</td>\n",
       "      <td>1</td>\n",
       "      <td>0</td>\n",
       "      <td>6</td>\n",
       "      <td>3459</td>\n",
       "      <td>1.831853</td>\n",
       "    </tr>\n",
       "    <tr>\n",
       "      <th>...</th>\n",
       "      <td>...</td>\n",
       "      <td>...</td>\n",
       "      <td>...</td>\n",
       "      <td>...</td>\n",
       "      <td>...</td>\n",
       "      <td>...</td>\n",
       "      <td>...</td>\n",
       "      <td>...</td>\n",
       "    </tr>\n",
       "    <tr>\n",
       "      <th>834713</th>\n",
       "      <td>0</td>\n",
       "      <td>norm-inf-dist-1</td>\n",
       "      <td>mp</td>\n",
       "      <td>1</td>\n",
       "      <td>3016</td>\n",
       "      <td>3014</td>\n",
       "      <td>7051</td>\n",
       "      <td>1.682795</td>\n",
       "    </tr>\n",
       "    <tr>\n",
       "      <th>834714</th>\n",
       "      <td>0</td>\n",
       "      <td>norm-inf-dist-1</td>\n",
       "      <td>mp</td>\n",
       "      <td>1</td>\n",
       "      <td>3014</td>\n",
       "      <td>3018</td>\n",
       "      <td>3063</td>\n",
       "      <td>1.658857</td>\n",
       "    </tr>\n",
       "    <tr>\n",
       "      <th>834715</th>\n",
       "      <td>0</td>\n",
       "      <td>norm-inf-dist-1</td>\n",
       "      <td>mp</td>\n",
       "      <td>1</td>\n",
       "      <td>3018</td>\n",
       "      <td>3014</td>\n",
       "      <td>3063</td>\n",
       "      <td>1.658857</td>\n",
       "    </tr>\n",
       "    <tr>\n",
       "      <th>834718</th>\n",
       "      <td>0</td>\n",
       "      <td>norm-inf-dist-1</td>\n",
       "      <td>mp</td>\n",
       "      <td>1</td>\n",
       "      <td>3016</td>\n",
       "      <td>3018</td>\n",
       "      <td>7051</td>\n",
       "      <td>1.512498</td>\n",
       "    </tr>\n",
       "    <tr>\n",
       "      <th>834719</th>\n",
       "      <td>0</td>\n",
       "      <td>norm-inf-dist-1</td>\n",
       "      <td>mp</td>\n",
       "      <td>1</td>\n",
       "      <td>3018</td>\n",
       "      <td>3016</td>\n",
       "      <td>7051</td>\n",
       "      <td>1.512498</td>\n",
       "    </tr>\n",
       "  </tbody>\n",
       "</table>\n",
       "<p>2278590 rows × 8 columns</p>\n",
       "</div>"
      ],
      "text/plain": [
       "         compid      ncd_formula dist_aggregator  seqpart  seqid_1  seqid_2  \\\n",
       "1143566       0  norm-inf-dist-1              mp        1        0        2   \n",
       "1143567       0  norm-inf-dist-1              mp        1        2        0   \n",
       "1143568       0  norm-inf-dist-1              mp        1        0        4   \n",
       "1143569       0  norm-inf-dist-1              mp        1        4        0   \n",
       "1143570       0  norm-inf-dist-1              mp        1        0        6   \n",
       "...         ...              ...             ...      ...      ...      ...   \n",
       "834713        0  norm-inf-dist-1              mp        1     3016     3014   \n",
       "834714        0  norm-inf-dist-1              mp        1     3014     3018   \n",
       "834715        0  norm-inf-dist-1              mp        1     3018     3014   \n",
       "834718        0  norm-inf-dist-1              mp        1     3016     3018   \n",
       "834719        0  norm-inf-dist-1              mp        1     3018     3016   \n",
       "\n",
       "         seqid_train      dist  \n",
       "1143566         3976  1.804914  \n",
       "1143567         3976  1.804914  \n",
       "1143568         3325  1.799317  \n",
       "1143569         3325  1.799317  \n",
       "1143570         3459  1.831853  \n",
       "...              ...       ...  \n",
       "834713          7051  1.682795  \n",
       "834714          3063  1.658857  \n",
       "834715          3063  1.658857  \n",
       "834718          7051  1.512498  \n",
       "834719          7051  1.512498  \n",
       "\n",
       "[2278590 rows x 8 columns]"
      ]
     },
     "execution_count": 12,
     "metadata": {},
     "output_type": "execute_result"
    }
   ],
   "source": [
    "df"
   ]
  },
  {
   "cell_type": "markdown",
   "id": "8ab8894f",
   "metadata": {},
   "source": [
    "### Spectral analysis"
   ]
  },
  {
   "cell_type": "code",
   "execution_count": 13,
   "id": "b4a99134",
   "metadata": {},
   "outputs": [],
   "source": [
    "n_points = df[\"seqid_1\"].nunique()\n",
    "NCD = np.zeros((n_points, n_points))\n",
    "seqids = list(df[\"seqid_1\"].unique())\n",
    "seqids = dict(map(lambda ij: (ij[1], ij[0]), enumerate(seqids)))\n",
    "for index, row in df.iterrows():\n",
    "    i, j = seqids[row[\"seqid_1\"]], seqids[row[\"seqid_2\"]]\n",
    "    NCD[i, j] = row[\"dist\"]"
   ]
  },
  {
   "cell_type": "code",
   "execution_count": 14,
   "id": "414553eb",
   "metadata": {},
   "outputs": [
    {
     "data": {
      "image/png": "[encoded data removed]",
      "text/plain": [
       "<Figure size 360x360 with 1 Axes>"
      ]
     },
     "metadata": {
      "needs_background": "light"
     },
     "output_type": "display_data"
    },
    {
     "name": "stdout",
     "output_type": "stream",
     "text": [
      "Largest eigenvalue was 2331.0647468398115 (not shown).\n"
     ]
    }
   ],
   "source": [
    "ncd_eigs, ncd_eigvs = np.linalg.eigh(NCD)\n",
    "sns.displot(ncd_eigs[:-1])  # don't show last eigenvalue, ruins the scale\n",
    "plt.show()\n",
    "print(\"Largest eigenvalue was\", ncd_eigs[-1], \"(not shown).\")"
   ]
  },
  {
   "cell_type": "code",
   "execution_count": 15,
   "id": "daae003b",
   "metadata": {},
   "outputs": [],
   "source": [
    "n_repeats, n_dim = 100, 10\n",
    "\n",
    "null_eigs = np.zeros((n_repeats, n_points))\n",
    "for i in range(n_repeats):\n",
    "    X = np.random.random((n_points, n_dim))\n",
    "    D = np.sum(np.abs(X[:, np.newaxis, :] - X[np.newaxis, :, :]), axis=-1)\n",
    "    assert(D.shape == (n_points, n_points))\n",
    "    null_eigs[i, :] = np.linalg.eigvalsh(D)"
   ]
  },
  {
   "cell_type": "code",
   "execution_count": 16,
   "id": "defb31d7",
   "metadata": {},
   "outputs": [
    {
     "name": "stdout",
     "output_type": "stream",
     "text": [
      "Bulk\n"
     ]
    },
    {
     "data": {
      "image/png": "[encoded data removed]",
      "text/plain": [
       "<Figure size 360x360 with 1 Axes>"
      ]
     },
     "metadata": {
      "needs_background": "light"
     },
     "output_type": "display_data"
    },
    {
     "name": "stdout",
     "output_type": "stream",
     "text": [
      "Largest\n"
     ]
    },
    {
     "data": {
      "image/png": "[encoded data removed]",
      "text/plain": [
       "<Figure size 360x360 with 1 Axes>"
      ]
     },
     "metadata": {
      "needs_background": "light"
     },
     "output_type": "display_data"
    }
   ],
   "source": [
    "print('Bulk')\n",
    "sns.displot((-null_eigs[:, :-1]).flatten(), log_scale=True)  # don't show last eigenvalue, ruins the scale\n",
    "plt.show()\n",
    "print('Largest')\n",
    "sns.displot(null_eigs[:, -1])\n",
    "plt.show()"
   ]
  },
  {
   "cell_type": "markdown",
   "id": "d19fc754",
   "metadata": {},
   "source": [
    "### Most Negative NCD Eigenvector Analysis"
   ]
  },
  {
   "cell_type": "code",
   "execution_count": 20,
   "id": "cb06d0b4",
   "metadata": {},
   "outputs": [
    {
     "data": {
      "text/html": [
       "<div>\n",
       "<style scoped>\n",
       "    .dataframe tbody tr th:only-of-type {\n",
       "        vertical-align: middle;\n",
       "    }\n",
       "\n",
       "    .dataframe tbody tr th {\n",
       "        vertical-align: top;\n",
       "    }\n",
       "\n",
       "    .dataframe thead th {\n",
       "        text-align: right;\n",
       "    }\n",
       "</style>\n",
       "<table border=\"1\" class=\"dataframe\">\n",
       "  <thead>\n",
       "    <tr style=\"text-align: right;\">\n",
       "      <th></th>\n",
       "      <th>seqid</th>\n",
       "      <th>eigv</th>\n",
       "      <th>lbl</th>\n",
       "      <th>seq</th>\n",
       "    </tr>\n",
       "  </thead>\n",
       "  <tbody>\n",
       "    <tr>\n",
       "      <th>0</th>\n",
       "      <td>0</td>\n",
       "      <td>0.044386</td>\n",
       "      <td>0</td>\n",
       "      <td>[CLS] asian export ##ers fear damage from u . ...</td>\n",
       "    </tr>\n",
       "    <tr>\n",
       "      <th>1</th>\n",
       "      <td>2</td>\n",
       "      <td>-0.021847</td>\n",
       "      <td>0</td>\n",
       "      <td>[CLS] japan to rev ##ise long - term energy de...</td>\n",
       "    </tr>\n",
       "    <tr>\n",
       "      <th>2</th>\n",
       "      <td>4</td>\n",
       "      <td>0.013013</td>\n",
       "      <td>0</td>\n",
       "      <td>[CLS] indonesia sees cp ##o price rising sharp...</td>\n",
       "    </tr>\n",
       "    <tr>\n",
       "      <th>3</th>\n",
       "      <td>6</td>\n",
       "      <td>-0.026142</td>\n",
       "      <td>0</td>\n",
       "      <td>[CLS] indonesian commodity exchange may expand...</td>\n",
       "    </tr>\n",
       "    <tr>\n",
       "      <th>4</th>\n",
       "      <td>8</td>\n",
       "      <td>0.009066</td>\n",
       "      <td>0</td>\n",
       "      <td>[CLS] western mining to open new gold mine in ...</td>\n",
       "    </tr>\n",
       "    <tr>\n",
       "      <th>...</th>\n",
       "      <td>...</td>\n",
       "      <td>...</td>\n",
       "      <td>...</td>\n",
       "      <td>...</td>\n",
       "    </tr>\n",
       "    <tr>\n",
       "      <th>1505</th>\n",
       "      <td>3010</td>\n",
       "      <td>0.005937</td>\n",
       "      <td>0</td>\n",
       "      <td>[CLS] new zealand impose ##s sanctions against...</td>\n",
       "    </tr>\n",
       "    <tr>\n",
       "      <th>1506</th>\n",
       "      <td>3012</td>\n",
       "      <td>-0.003829</td>\n",
       "      <td>0</td>\n",
       "      <td>[CLS] iran , soviet union to swap crude , refi...</td>\n",
       "    </tr>\n",
       "    <tr>\n",
       "      <th>1507</th>\n",
       "      <td>3014</td>\n",
       "      <td>0.000391</td>\n",
       "      <td>1</td>\n",
       "      <td>[CLS] n . z . ' s chase corp makes offer for e...</td>\n",
       "    </tr>\n",
       "    <tr>\n",
       "      <th>1508</th>\n",
       "      <td>3016</td>\n",
       "      <td>-0.003003</td>\n",
       "      <td>0</td>\n",
       "      <td>[CLS] japan / india conference cuts gulf war r...</td>\n",
       "    </tr>\n",
       "    <tr>\n",
       "      <th>1509</th>\n",
       "      <td>3018</td>\n",
       "      <td>0.028590</td>\n",
       "      <td>0</td>\n",
       "      <td>[CLS] six killed in south african gold mine ac...</td>\n",
       "    </tr>\n",
       "  </tbody>\n",
       "</table>\n",
       "<p>1510 rows × 4 columns</p>\n",
       "</div>"
      ],
      "text/plain": [
       "      seqid      eigv  lbl                                                seq\n",
       "0         0  0.044386    0  [CLS] asian export ##ers fear damage from u . ...\n",
       "1         2 -0.021847    0  [CLS] japan to rev ##ise long - term energy de...\n",
       "2         4  0.013013    0  [CLS] indonesia sees cp ##o price rising sharp...\n",
       "3         6 -0.026142    0  [CLS] indonesian commodity exchange may expand...\n",
       "4         8  0.009066    0  [CLS] western mining to open new gold mine in ...\n",
       "...     ...       ...  ...                                                ...\n",
       "1505   3010  0.005937    0  [CLS] new zealand impose ##s sanctions against...\n",
       "1506   3012 -0.003829    0  [CLS] iran , soviet union to swap crude , refi...\n",
       "1507   3014  0.000391    1  [CLS] n . z . ' s chase corp makes offer for e...\n",
       "1508   3016 -0.003003    0  [CLS] japan / india conference cuts gulf war r...\n",
       "1509   3018  0.028590    0  [CLS] six killed in south african gold mine ac...\n",
       "\n",
       "[1510 rows x 4 columns]"
      ]
     },
     "execution_count": 20,
     "metadata": {},
     "output_type": "execute_result"
    }
   ],
   "source": [
    "eig_idx = 0\n",
    "df_eig = pd.DataFrame([\n",
    "    (seqid, ncd_eigvs[eig_idx, seqids[seqid]], lbls[seqid], seqs.loc[seqid][\"seq\"].compute().values[0])\n",
    "    for seqid in df[\"seqid_1\"].unique()\n",
    "], columns=[\"seqid\", \"eigv\", \"lbl\", \"seq\"])\n",
    "df_eig"
   ]
  },
  {
   "cell_type": "code",
   "execution_count": 21,
   "id": "5755fffd",
   "metadata": {},
   "outputs": [
    {
     "data": {
      "image/png": "[encoded data removed]",
      "text/plain": [
       "<Figure size 402.375x360 with 1 Axes>"
      ]
     },
     "metadata": {
      "needs_background": "light"
     },
     "output_type": "display_data"
    }
   ],
   "source": [
    "sns.displot(df_eig, x=\"eigv\", hue=\"lbl\")\n",
    "plt.show()"
   ]
  },
  {
   "cell_type": "markdown",
   "id": "b3932bb1",
   "metadata": {},
   "source": [
    "### Label Analysis"
   ]
  },
  {
   "cell_type": "code",
   "execution_count": 37,
   "id": "0cef990d",
   "metadata": {},
   "outputs": [],
   "source": [
    "n_repeats = 100\n",
    "y_true, y_randoms = np.zeros((n_points,)), np.zeros((n_repeats, n_points))\n",
    "for seqid, idx in seqids.items():\n",
    "    y_true[idx] = (1.0 if lbls[seqid] == 1 else -1.0)\n",
    "for i in range(n_repeats):\n",
    "    y_randoms[i] = y_true\n",
    "    np.random.shuffle(y_randoms[i])"
   ]
  },
  {
   "cell_type": "code",
   "execution_count": 38,
   "id": "c7e93f01",
   "metadata": {},
   "outputs": [],
   "source": [
    "G = nx.from_numpy_array(NCD)\n",
    "true_score = nx.cut_size(G, np.argwhere(y_true == 1)[:, 0], weight='weight')\n",
    "null_score_dist = [nx.cut_size(G, np.argwhere(y_randoms[i] == 1)[:, 0], weight='weight') for i in range(n_repeats)]"
   ]
  },
  {
   "cell_type": "code",
   "execution_count": 39,
   "id": "864a34d6",
   "metadata": {},
   "outputs": [
    {
     "data": {
      "image/png": "[encoded data removed]",
      "text/plain": [
       "<Figure size 360x360 with 1 Axes>"
      ]
     },
     "metadata": {
      "needs_background": "light"
     },
     "output_type": "display_data"
    }
   ],
   "source": [
    "sns.displot(null_score_dist)\n",
    "plt.axvline(x=true_score, color='green')\n",
    "plt.axvline(x=np.mean(null_score_dist), color='red')\n",
    "plt.axvline(x=np.mean(null_score_dist) + np.std(null_score_dist), color='red', dashes=(1.0, 1.0))\n",
    "plt.axvline(x=np.mean(null_score_dist) - np.std(null_score_dist), color='red', dashes=(1.0, 1.0))\n",
    "plt.show()"
   ]
  },
  {
   "cell_type": "code",
   "execution_count": null,
   "id": "3b3d05fb",
   "metadata": {},
   "outputs": [],
   "source": []
  }
 ],
 "metadata": {
  "kernelspec": {
   "display_name": "Python 3 (ipykernel)",
   "language": "python",
   "name": "python3"
  },
  "language_info": {
   "codemirror_mode": {
    "name": "ipython",
    "version": 3
   },
   "file_extension": ".py",
   "mimetype": "text/x-python",
   "name": "python",
   "nbconvert_exporter": "python",
   "pygments_lexer": "ipython3",
   "version": "3.7.11"
  }
 },
 "nbformat": 4,
 "nbformat_minor": 5
}
